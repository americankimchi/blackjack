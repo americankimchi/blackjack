{
 "cells": [
  {
   "cell_type": "code",
   "execution_count": 1,
   "metadata": {},
   "outputs": [],
   "source": [
    "import gym\n",
    "import matplotlib.pyplot as plt\n",
    "import random\n",
    "import numpy as np"
   ]
  },
  {
   "cell_type": "code",
   "execution_count": 2,
   "metadata": {},
   "outputs": [
    {
     "data": {
      "text/plain": [
       "(11, 10, False, True)"
      ]
     },
     "execution_count": 2,
     "metadata": {},
     "output_type": "execute_result"
    }
   ],
   "source": [
    "env = gym.make('Blackjack-v0')\n",
    "env.reset()"
   ]
  },
  {
   "cell_type": "code",
   "execution_count": 3,
   "metadata": {},
   "outputs": [],
   "source": [
    "class Agent():\n",
    "    def __init__(self, env, epsilon=1.0, gamma=0.99, num_episodes_to_train=30000, timestep=0):\n",
    "        self.env = env\n",
    "\n",
    "        # Looks like n is number of valid actions from the souce code\n",
    "        self.valid_actions = list(range(self.env.action_space.n))\n",
    "\n",
    "        # Set parameters of the learning agent\n",
    "        self.Q = dict()          # Q-table which will be a dictionary of tuples\n",
    "        self.epsilon = epsilon   # Random exploration factor\n",
    "        #self.alpha = alpha       # Learning factor\n",
    "        self.gamma = gamma       # Discount factor- closer to 1 learns well into distant future\n",
    "        self.visits = dict()\n",
    "        \n",
    "        # epsilon will reduce linearly until it reaches 0 based on num_episodes_to_train\n",
    "        # epsilon drops to 90% of its inital value in the first 30% of num_episodes_to_train\n",
    "        # epsilon then drops to 10% of its initial value in the next 40% of num_episodes_to_train\n",
    "        # epsilon finally becomes 0 in the final 30% of num_episodes_to_train\n",
    "        self.num_episodes_to_train = num_episodes_to_train # Change epsilon each episode based on this\n",
    "        #self.small_decrement = (0.1 * epsilon) / (0.3 * num_episodes_to_train) # reduces epsilon slowly\n",
    "        #self.big_decrement = (0.8 * epsilon) / (0.4 * num_episodes_to_train) # reduces epilon faster\n",
    "\n",
    "        #self.num_episodes_to_train_left = num_episodes_to_train\n",
    "        self.timestep = timestep\n",
    "        \n",
    "    def updateEpsilon(self):\n",
    "        epsilonStart = 1\n",
    "        epsilonEnd = 0\n",
    "        scalingFactor = 100\n",
    "        self.epsilon = epsilonStart + (epsilonEnd-epsilonStart)*np.exp(\n",
    "                       (self.timestep-self.num_episodes_to_train)/scalingFactor)\n",
    "\n",
    "    def update_parameters(self):\n",
    "        \"\"\"\n",
    "        Update epsilon and alpha after each action\n",
    "        Set them to 0 if not learning\n",
    "        \"\"\"\n",
    "        '''\n",
    "        if self.num_episodes_to_train_left > 0.7 * self.num_episodes_to_train:\n",
    "            self.epsilon -= self.small_decrement\n",
    "        elif self.num_episodes_to_train_left > 0.3 * self.num_episodes_to_train:\n",
    "            self.epsilon -= self.big_decrement\n",
    "        elif self.num_episodes_to_train_left > 0:\n",
    "            self.epsilon -= self.small_decrement\n",
    "        else:\n",
    "            self.epsilon = 0.0\n",
    "            self.alpha = 0.0\n",
    "        '''\n",
    "        #self.timestep += 1\n",
    "        if self.timestep <= self.num_episodes_to_train:\n",
    "            self.updateEpsilon()\n",
    "        else:\n",
    "            self.epsilon = 0\n",
    "\n",
    "    def create_Q_if_new_observation(self, observation):\n",
    "        \"\"\"\n",
    "        Set intial Q values to 0.0 if observation not already in Q table\n",
    "        \"\"\"\n",
    "        # If not first round, double is not allowed\n",
    "        if observation[3] == False:\n",
    "            self.valid_actions = self.valid_actions[:2]\n",
    "        else:\n",
    "            self.valid_actions = list(range(self.env.action_space.n))\n",
    "\n",
    "        if observation not in self.Q:\n",
    "            self.Q[observation] = dict((action, 0.0) for action in self.valid_actions)\n",
    "            self.visits[observation] = dict((action, 1) for action in self.valid_actions)\n",
    "\n",
    "    def get_maxQ(self, observation):\n",
    "        \"\"\"\n",
    "        Called when the agent is asked to find the maximum Q-value of\n",
    "        all actions based on the 'observation' the environment is in.\n",
    "        \"\"\"\n",
    "        self.create_Q_if_new_observation(observation)\n",
    "        return max(self.Q[observation].values())\n",
    "\n",
    "    def choose_action(self, observation):\n",
    "        \"\"\"\n",
    "        Choose which action to take, based on the observation.\n",
    "        If observation is seen for the first time, initialize its Q values to 0.0\n",
    "        \"\"\"\n",
    "        \n",
    "        self.create_Q_if_new_observation(observation)\n",
    "\n",
    "        # uniformly distributed random number > epsilon happens with probability 1-epsilon\n",
    "        if random.random() > self.epsilon:\n",
    "            maxQ = self.get_maxQ(observation)\n",
    "\n",
    "            # multiple actions could have maxQ- pick one at random in that case\n",
    "            # this is also the case when the Q value for this observation were just set to 0.0\n",
    "            action = random.choice([k for k in self.Q[observation].keys()\n",
    "                                    if self.Q[observation][k] == maxQ])\n",
    "        else:\n",
    "            action = random.choice(self.valid_actions)\n",
    "        \n",
    "        self.visits[observation][action] += 1\n",
    "        self.update_parameters()\n",
    "\n",
    "        return action\n",
    "\n",
    "\n",
    "    def learn(self, observation, action, reward, next_observation):\n",
    "        \"\"\"\n",
    "        Called after the agent completes an action and receives an award.\n",
    "        This function does not consider future rewards\n",
    "        when conducting learning.\n",
    "        \"\"\"\n",
    "        \n",
    "        # Q = Q*(1-alpha) + alpha(reward + discount * utility of next observation)\n",
    "        # Q = Q - Q * alpha + alpha(reward + discount * self.get_maxQ(next_observation))\n",
    "        # Q = Q - alpha (-Q + reward + discount * self.get_maxQ(next_observation))\n",
    "        alpha = 1/(1+self.visits[observation][action])\n",
    "        self.Q[observation][action] = (1-alpha)*self.Q[observation][action] + (\n",
    "                                      (alpha)*(reward+(self.gamma*self.get_maxQ(next_observation))))"
   ]
  },
  {
   "cell_type": "code",
   "execution_count": 4,
   "metadata": {},
   "outputs": [
    {
     "data": {
      "image/png": "[encoded data removed]",
      "text/plain": [
       "<Figure size 432x288 with 1 Axes>"
      ]
     },
     "metadata": {},
     "output_type": "display_data"
    },
    {
     "name": "stdout",
     "output_type": "stream",
     "text": [
      "Average payout after 800 rounds is -302.5\n"
     ]
    }
   ],
   "source": [
    "total_payout = 0 # to store total payout over 'num_rounds'\n",
    "average_payouts = []\n",
    "agent = Agent(env=env, epsilon=1.0, gamma=0.9, num_episodes_to_train=500, timestep=0)\n",
    "\n",
    "num_rounds = 800 # Payout calculated over num_rounds\n",
    "num_samples = 1 # num_rounds simulated over num_samples\n",
    "\n",
    "\n",
    "observation = env.reset()\n",
    "for sample in range(num_samples):\n",
    "    round = 1\n",
    "    epsilon_values = []\n",
    "    # Take action based on Q-table of the agent and learn based on that until 'num_episodes_to_train' = 0\n",
    "    while round <= num_rounds:\n",
    "        epsilon_values.append(agent.epsilon)\n",
    "        action = agent.choose_action(observation)\n",
    "        next_observation, payout, is_done, _ = env.step(action)\n",
    "        agent.learn(observation, action, payout, next_observation)\n",
    "        total_payout += payout\n",
    "        observation = next_observation\n",
    "        if is_done:\n",
    "            agent.timestep += 1\n",
    "            observation = env.reset() # Environment deals new cards to player and dealer\n",
    "            round += 1\n",
    "            average_payouts.append(total_payout/(sample*num_rounds + round))\n",
    "\n",
    "# Plot epsilon over rounds to show rate of its decrease\n",
    "plt.figure(2)\n",
    "plt.xlabel(\"num_rounds\")\n",
    "plt.ylabel(\"epsilon\")\n",
    "plt.plot(epsilon_values)\n",
    "plt.show()\n",
    "print (\"Average payout after {} rounds is {}\".format(num_rounds, total_payout/(num_samples)))"
   ]
  },
  {
   "cell_type": "code",
   "execution_count": 5,
   "metadata": {},
   "outputs": [
    {
     "data": {
      "image/png": "[encoded data removed]",
      "text/plain": [
       "<Figure size 432x288 with 1 Axes>"
      ]
     },
     "metadata": {},
     "output_type": "display_data"
    },
    {
     "name": "stdout",
     "output_type": "stream",
     "text": [
      "Average payout after 1000 rounds is -77.805\n"
     ]
    }
   ],
   "source": [
    "def normal_strategy(player_sum, dealer_up_card):\n",
    "    \"\"\"\n",
    "    Returns appropriate action from a 2D array storing actions\n",
    "    Actions obtained from figure 11 here- https://pdfs.semanticscholar.org/e1dd/06616e2d18179da7a3643cb3faab95222c8b.pdf\n",
    "    Each row corresponds to player sum- from 2 to 21\n",
    "    Each column corresponds to dealer_up_card- from 1 to 10\n",
    "    \"\"\"\n",
    "    actions = [[1]*10]*8 # 2 to 9\n",
    "    actions.append([1]*4 + [0]*2 + [1]*4) #10\n",
    "    actions.append([1] + [0]*6 + [1]*3) #11\n",
    "    actions.append([0] + [1]*9) #12\n",
    "    actions.append([0]*2 + [1]*8) #13\n",
    "    actions.append([0]*1 + [1]*9) #14\n",
    "    actions.append([0]*2 + [1]*8) #15\n",
    "    actions.append([0]*5 + [1]*5) #16\n",
    "    actions.append([0]*4 + [1]*6) #17\n",
    "    actions.extend([[0]*10]*4) # 18 to 21\n",
    "    \n",
    "    # dealer_up_card-2 takes care of input 1 which correcly looks up last column\n",
    "    return actions[player_sum-2][dealer_up_card-2]\n",
    "\n",
    "# Make sure actions have been stored correctly mainly when dealer's upcard is A\n",
    "assert (normal_strategy(15, 2)) == 0\n",
    "assert (normal_strategy(15, 1)) == 1\n",
    "\n",
    "num_rounds = 1000 # Payout calculated over num_rounds\n",
    "num_samples = 1000 # num_rounds simulated over num_samples\n",
    "\n",
    "average_payouts = []\n",
    "\n",
    "observation = env.reset()\n",
    "for sample in range(num_samples):\n",
    "    round = 1\n",
    "    total_payout = 0 # to store total payout over 'num_rounds'\n",
    "    # Take action based on Q-table of the agent and learn based on that until 'num_episodes_to_train' = 0\n",
    "    while round <= num_rounds:\n",
    "        player_sum, dealer_up_card, is_done, __ = (env._get_obs())\n",
    "        # Take action based on normal strategy stored above\n",
    "        action = normal_strategy(player_sum, dealer_up_card) \n",
    "        next_observation, payout, is_done, _ = env.step(action)\n",
    "        total_payout += payout\n",
    "        observation = next_observation\n",
    "        if is_done:\n",
    "            observation = env.reset() # Environment deals new cards to player and dealer\n",
    "            round += 1\n",
    "    average_payouts.append(total_payout)\n",
    "\n",
    "# Plot payout per 1000 episodes for each value of 'sample'\n",
    "plt.plot(average_payouts)           \n",
    "plt.xlabel('num_samples',fontsize=16)\n",
    "plt.ylabel('payout after 1000 rounds',fontsize=16)\n",
    "plt.show()      \n",
    "    \n",
    "print (\"Average payout after {} rounds is {}\".format(num_rounds, sum(average_payouts)/(num_samples)))"
   ]
  },
  {
   "cell_type": "code",
   "execution_count": 9,
   "metadata": {},
   "outputs": [
    {
     "data": {
      "image/png": "[encoded data removed]",
      "text/plain": [
       "<Figure size 432x288 with 1 Axes>"
      ]
     },
     "metadata": {},
     "output_type": "display_data"
    },
    {
     "name": "stdout",
     "output_type": "stream",
     "text": [
      "Average payout after 1000 rounds is -33.067\n"
     ]
    }
   ],
   "source": [
    "agent = Agent(env=env, epsilon=1.0, gamma=0.1, num_episodes_to_train=15000, timestep=0)\n",
    "\n",
    "num_rounds = 1000 # Payout calculated over num_rounds\n",
    "num_samples = 1000 # num_rounds simulated over num_samples\n",
    "\n",
    "average_payouts = []\n",
    "\n",
    "observation = env.reset()\n",
    "for sample in range(num_samples):\n",
    "    round = 1\n",
    "    total_payout = 0 # to store total payout over 'num_rounds'\n",
    "    # Take action based on Q-table of the agent and learn based on that until 'num_episodes_to_train' = 0\n",
    "    while round <= num_rounds:\n",
    "        action = agent.choose_action(observation)\n",
    "        next_observation, payout, is_done, _ = env.step(action)\n",
    "        agent.learn(observation, action, payout, next_observation)\n",
    "        total_payout += payout\n",
    "        observation = next_observation\n",
    "        if is_done:\n",
    "            agent.timestep += 1\n",
    "            observation = env.reset() # Environment deals new cards to player and dealer\n",
    "            round += 1\n",
    "    average_payouts.append(total_payout)\n",
    "\n",
    "# Plot payout per 1000 episodes for each value of 'sample'\n",
    "plt.plot(average_payouts)           \n",
    "plt.xlabel('num_samples',fontsize=16)\n",
    "plt.ylabel('payout after 1000 rounds',fontsize=16)\n",
    "plt.show()      \n",
    "    \n",
    "print (\"Average payout after {} rounds is {}\".format(num_rounds, sum(average_payouts)/(num_samples)))"
   ]
  },
  {
   "cell_type": "code",
   "execution_count": 7,
   "metadata": {},
   "outputs": [],
   "source": [
    "learnedStrategy = open('AgentStrategy.txt','w')"
   ]
  },
  {
   "cell_type": "code",
   "execution_count": 8,
   "metadata": {},
   "outputs": [
    {
     "name": "stdout",
     "output_type": "stream",
     "text": [
      "--------------------------------------------------------------------------------------------------------------------\n"
     ]
    }
   ],
   "source": [
    "num_rounds = 1000 # Payout calculated over num_rounds\n",
    "num_samples = 100 # num_rounds simulated over num_samples\n",
    "\n",
    "payouts = []\n",
    "\n",
    "observation = env.reset()\n",
    "round = 1\n",
    "total_payout = 0 # to store total payout over 'num_rounds'\n",
    "# Take action based on Q-table of the agent and learn based on that until 'num_episodes_to_train' = 0\n",
    "while round <= num_rounds * num_samples:\n",
    "    action = agent.choose_action(observation)\n",
    "    next_observation, payout, is_done, _ = env.step(action)\n",
    "    agent.learn(observation, action, payout, next_observation)\n",
    "    payouts.append(payout)\n",
    "    observation = next_observation\n",
    "    if is_done:\n",
    "        observation = env.reset() # Environment deals new cards to player and dealer\n",
    "        round += 1\n",
    "\n",
    "num_observations = 0        \n",
    "list_players_hand = range(1, 22)\n",
    "list_dealers_upcard = range(1, 11)\n",
    "\n",
    "def readable_action(observation, agent):\n",
    "    \"\"\" \n",
    "    Pass observation to agent and get human readable action\n",
    "    H is hit, S is stick and '-' means the state is unseen and a random action is taken\n",
    "    \"\"\"\n",
    "    if observation not in agent.Q:\n",
    "        action = \"-\"\n",
    "    else:\n",
    "        strategy = agent.choose_action(observation)\n",
    "        if strategy == 2:\n",
    "            action = \"D\"\n",
    "        elif strategy == 1:\n",
    "            action = \"H\" \n",
    "        else:\n",
    "            action = \"S\"    \n",
    "    return action\n",
    "\n",
    "# Print headers to give more information about output\n",
    "learnedStrategy.write(\"{:^10} | {:^50} | {:^50}\".format(\n",
    "                      \"Player's\",\"Dealer's upcard when ace is not usable\",\n",
    "                      \"Dealer's upcard when ace is usable\"))\n",
    "learnedStrategy.write(\"{0:^10} | {1} | {1}\".format(\"Hand\", [str(upcard) if not upcard==10 else 'A' \n",
    "                                                        for upcard in list_dealers_upcard]))\n",
    "print (''.join(['-' for _ in range(116)]))\n",
    "for players_hand in list_players_hand:\n",
    "    actions_usable1 = []\n",
    "    actions_not_usable1 = []\n",
    "    for dealers_upcard in list_dealers_upcard:\n",
    "        observation = (players_hand, dealers_upcard, False, True)\n",
    "        actions_not_usable1.append(readable_action(observation, agent))\n",
    "        \n",
    "        observation = (players_hand, dealers_upcard, True, True)\n",
    "        actions_usable1.append(readable_action(observation, agent))\n",
    "    \n",
    "    learnedStrategy.write(\"{:>10} | {} | {}\\n\".format(\n",
    "                          players_hand, actions_not_usable1, actions_usable1))\n",
    "    \n",
    "learnedStrategy.write(\"Average payout after {} rounds is {}\".format(\n",
    "                       num_rounds, sum(payouts)/num_samples))\n",
    "\n",
    "learnedStrategy.close()"
   ]
  }
 ],
 "metadata": {
  "kernelspec": {
   "display_name": "Python 3",
   "language": "python",
   "name": "python3"
  },
  "language_info": {
   "codemirror_mode": {
    "name": "ipython",
    "version": 3
   },
   "file_extension": ".py",
   "mimetype": "text/x-python",
   "name": "python",
   "nbconvert_exporter": "python",
   "pygments_lexer": "ipython3",
   "version": "3.6.5"
  }
 },
 "nbformat": 4,
 "nbformat_minor": 2
}
